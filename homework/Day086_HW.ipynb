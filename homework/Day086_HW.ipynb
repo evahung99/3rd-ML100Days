{
 "cells": [
  {
   "cell_type": "markdown",
   "metadata": {},
   "source": [
    "## Work\n",
    "1. 試比較 save_best_only 與否的差異\n",
    "2. 請僅存入將 save_weights_only 設定為 True, 並嘗試 reset ipynb 並將模型與權重重新建回並預測 x_test"
   ]
  },
  {
   "cell_type": "code",
   "execution_count": 1,
   "metadata": {},
   "outputs": [
    {
     "name": "stderr",
     "output_type": "stream",
     "text": [
      "Using TensorFlow backend.\n"
     ]
    }
   ],
   "source": [
    "import os\n",
    "import keras\n",
    "\n",
    "# Disable GPU\n",
    "os.environ[\"CUDA_VISIBLE_DEVICES\"] = \"\""
   ]
  },
  {
   "cell_type": "code",
   "execution_count": 2,
   "metadata": {},
   "outputs": [],
   "source": [
    "train, test = keras.datasets.cifar10.load_data()"
   ]
  },
  {
   "cell_type": "code",
   "execution_count": 3,
   "metadata": {},
   "outputs": [],
   "source": [
    "## 資料前處理\n",
    "def preproc_x(x, flatten=True):\n",
    "    x = x / 255.\n",
    "    if flatten:\n",
    "        x = x.reshape((len(x), -1))\n",
    "    return x\n",
    "\n",
    "def preproc_y(y, num_classes=10):\n",
    "    if y.shape[-1] == 1:\n",
    "        y = keras.utils.to_categorical(y, num_classes)\n",
    "    return y    "
   ]
  },
  {
   "cell_type": "code",
   "execution_count": 4,
   "metadata": {},
   "outputs": [],
   "source": [
    "x_train, y_train = train\n",
    "x_test, y_test = test\n",
    "\n",
    "# Preproc the inputs\n",
    "x_train = preproc_x(x_train)\n",
    "x_test = preproc_x(x_test)\n",
    "\n",
    "# Preprc the outputs\n",
    "y_train = preproc_y(y_train)\n",
    "y_test = preproc_y(y_test)"
   ]
  },
  {
   "cell_type": "code",
   "execution_count": 5,
   "metadata": {},
   "outputs": [],
   "source": [
    "from keras.layers import BatchNormalization\n",
    "\n",
    "\"\"\"\n",
    "建立神經網路，並加入 BN layer\n",
    "\"\"\"\n",
    "def build_mlp(input_shape, output_units=10, num_neurons=[512, 256, 128]):\n",
    "    input_layer = keras.layers.Input(input_shape)\n",
    "    \n",
    "    for i, n_units in enumerate(num_neurons):\n",
    "        if i == 0:\n",
    "            x = keras.layers.Dense(units=n_units, \n",
    "                                   activation=\"relu\", \n",
    "                                   name=\"hidden_layer\"+str(i+1))(input_layer)\n",
    "            x = BatchNormalization()(x)\n",
    "        else:\n",
    "            x = keras.layers.Dense(units=n_units, \n",
    "                                   activation=\"relu\", \n",
    "                                   name=\"hidden_layer\"+str(i+1))(x)\n",
    "            x = BatchNormalization()(x)\n",
    "    \n",
    "    out = keras.layers.Dense(units=output_units, activation=\"softmax\", name=\"output\")(x)\n",
    "    \n",
    "    model = keras.models.Model(inputs=[input_layer], outputs=[out])\n",
    "    return model"
   ]
  },
  {
   "cell_type": "code",
   "execution_count": 6,
   "metadata": {},
   "outputs": [],
   "source": [
    "## 超參數設定\n",
    "LEARNING_RATE = 1e-3\n",
    "EPOCHS = 50\n",
    "BATCH_SIZE = 1024\n",
    "MOMENTUM = 0.95"
   ]
  },
  {
   "cell_type": "code",
   "execution_count": 7,
   "metadata": {},
   "outputs": [
    {
     "name": "stdout",
     "output_type": "stream",
     "text": [
      "Model: \"model_1\"\n",
      "_________________________________________________________________\n",
      "Layer (type)                 Output Shape              Param #   \n",
      "=================================================================\n",
      "input_1 (InputLayer)         (None, 3072)              0         \n",
      "_________________________________________________________________\n",
      "hidden_layer1 (Dense)        (None, 512)               1573376   \n",
      "_________________________________________________________________\n",
      "batch_normalization_1 (Batch (None, 512)               2048      \n",
      "_________________________________________________________________\n",
      "hidden_layer2 (Dense)        (None, 256)               131328    \n",
      "_________________________________________________________________\n",
      "batch_normalization_2 (Batch (None, 256)               1024      \n",
      "_________________________________________________________________\n",
      "hidden_layer3 (Dense)        (None, 128)               32896     \n",
      "_________________________________________________________________\n",
      "batch_normalization_3 (Batch (None, 128)               512       \n",
      "_________________________________________________________________\n",
      "output (Dense)               (None, 10)                1290      \n",
      "=================================================================\n",
      "Total params: 1,742,474\n",
      "Trainable params: 1,740,682\n",
      "Non-trainable params: 1,792\n",
      "_________________________________________________________________\n",
      "Train on 50000 samples, validate on 10000 samples\n",
      "Epoch 1/50\n",
      "50000/50000 [==============================] - 3s 58us/step - loss: 2.2322 - accuracy: 0.2662 - val_loss: 2.1314 - val_accuracy: 0.2003\n",
      "Epoch 2/50\n",
      "50000/50000 [==============================] - 3s 55us/step - loss: 1.7471 - accuracy: 0.3903 - val_loss: 1.9449 - val_accuracy: 0.3152\n",
      "Epoch 3/50\n",
      "50000/50000 [==============================] - 3s 56us/step - loss: 1.6203 - accuracy: 0.4338 - val_loss: 1.7995 - val_accuracy: 0.3768\n",
      "Epoch 4/50\n",
      "50000/50000 [==============================] - 3s 53us/step - loss: 1.5452 - accuracy: 0.4592 - val_loss: 1.6921 - val_accuracy: 0.4200\n",
      "Epoch 5/50\n",
      "50000/50000 [==============================] - 3s 54us/step - loss: 1.4878 - accuracy: 0.4789 - val_loss: 1.6299 - val_accuracy: 0.4330\n",
      "Epoch 6/50\n",
      "50000/50000 [==============================] - 3s 61us/step - loss: 1.4412 - accuracy: 0.4963 - val_loss: 1.5822 - val_accuracy: 0.4451\n",
      "Epoch 7/50\n",
      "50000/50000 [==============================] - 3s 66us/step - loss: 1.4002 - accuracy: 0.5099 - val_loss: 1.5437 - val_accuracy: 0.4568\n",
      "Epoch 8/50\n",
      "50000/50000 [==============================] - 3s 64us/step - loss: 1.3645 - accuracy: 0.5234 - val_loss: 1.5281 - val_accuracy: 0.4626\n",
      "Epoch 9/50\n",
      "50000/50000 [==============================] - 3s 63us/step - loss: 1.3329 - accuracy: 0.5344 - val_loss: 1.5079 - val_accuracy: 0.4656\n",
      "Epoch 10/50\n",
      "50000/50000 [==============================] - 3s 63us/step - loss: 1.3021 - accuracy: 0.5461 - val_loss: 1.4816 - val_accuracy: 0.4770\n",
      "Epoch 11/50\n",
      "50000/50000 [==============================] - 3s 63us/step - loss: 1.2726 - accuracy: 0.5585 - val_loss: 1.4825 - val_accuracy: 0.4763\n",
      "Epoch 12/50\n",
      "50000/50000 [==============================] - 3s 69us/step - loss: 1.2449 - accuracy: 0.5670 - val_loss: 1.4844 - val_accuracy: 0.4812\n",
      "Epoch 13/50\n",
      "50000/50000 [==============================] - 3s 65us/step - loss: 1.2203 - accuracy: 0.5769 - val_loss: 1.4636 - val_accuracy: 0.4836\n",
      "Epoch 14/50\n",
      "50000/50000 [==============================] - 3s 62us/step - loss: 1.1937 - accuracy: 0.5866 - val_loss: 1.4626 - val_accuracy: 0.4845\n",
      "Epoch 15/50\n",
      "50000/50000 [==============================] - 3s 64us/step - loss: 1.1700 - accuracy: 0.5972 - val_loss: 1.4569 - val_accuracy: 0.4864\n",
      "Epoch 16/50\n",
      "50000/50000 [==============================] - 3s 68us/step - loss: 1.1461 - accuracy: 0.6042 - val_loss: 1.4558 - val_accuracy: 0.4863\n",
      "Epoch 17/50\n",
      "50000/50000 [==============================] - 3s 63us/step - loss: 1.1240 - accuracy: 0.6136 - val_loss: 1.4546 - val_accuracy: 0.4891\n",
      "Epoch 18/50\n",
      "50000/50000 [==============================] - 3s 63us/step - loss: 1.0995 - accuracy: 0.6209 - val_loss: 1.4471 - val_accuracy: 0.4913\n",
      "Epoch 19/50\n",
      "50000/50000 [==============================] - 3s 63us/step - loss: 1.0779 - accuracy: 0.6308 - val_loss: 1.4455 - val_accuracy: 0.4951\n",
      "Epoch 20/50\n",
      "50000/50000 [==============================] - 3s 63us/step - loss: 1.0574 - accuracy: 0.6393 - val_loss: 1.4548 - val_accuracy: 0.4957\n",
      "Epoch 21/50\n",
      "50000/50000 [==============================] - 3s 69us/step - loss: 1.0373 - accuracy: 0.6461 - val_loss: 1.4497 - val_accuracy: 0.4935\n",
      "Epoch 22/50\n",
      "50000/50000 [==============================] - 3s 64us/step - loss: 1.0136 - accuracy: 0.6549 - val_loss: 1.4550 - val_accuracy: 0.4952\n",
      "Epoch 23/50\n",
      "50000/50000 [==============================] - 3s 63us/step - loss: 0.9927 - accuracy: 0.6656 - val_loss: 1.4541 - val_accuracy: 0.4989\n",
      "Epoch 24/50\n",
      "50000/50000 [==============================] - 3s 62us/step - loss: 0.9725 - accuracy: 0.6713 - val_loss: 1.4652 - val_accuracy: 0.4941\n",
      "Epoch 25/50\n",
      "50000/50000 [==============================] - 3s 62us/step - loss: 0.9520 - accuracy: 0.6790 - val_loss: 1.4686 - val_accuracy: 0.4911\n",
      "Epoch 26/50\n",
      "50000/50000 [==============================] - 3s 62us/step - loss: 0.9306 - accuracy: 0.6891 - val_loss: 1.4690 - val_accuracy: 0.4922\n",
      "Epoch 27/50\n",
      "50000/50000 [==============================] - 3s 62us/step - loss: 0.9092 - accuracy: 0.6960 - val_loss: 1.4660 - val_accuracy: 0.4978\n",
      "Epoch 28/50\n",
      "50000/50000 [==============================] - 3s 62us/step - loss: 0.8890 - accuracy: 0.7062 - val_loss: 1.4741 - val_accuracy: 0.4925\n",
      "Epoch 29/50\n",
      "50000/50000 [==============================] - 3s 62us/step - loss: 0.8696 - accuracy: 0.7115 - val_loss: 1.4755 - val_accuracy: 0.4953\n",
      "Epoch 30/50\n",
      "50000/50000 [==============================] - 3s 63us/step - loss: 0.8512 - accuracy: 0.7189 - val_loss: 1.4775 - val_accuracy: 0.5014\n",
      "Epoch 31/50\n",
      "50000/50000 [==============================] - 3s 64us/step - loss: 0.8299 - accuracy: 0.7277 - val_loss: 1.4938 - val_accuracy: 0.4949\n",
      "Epoch 32/50\n",
      "50000/50000 [==============================] - 3s 62us/step - loss: 0.8119 - accuracy: 0.7357 - val_loss: 1.5001 - val_accuracy: 0.4906\n",
      "Epoch 33/50\n",
      "50000/50000 [==============================] - 3s 62us/step - loss: 0.7907 - accuracy: 0.7423 - val_loss: 1.5076 - val_accuracy: 0.4961\n",
      "Epoch 34/50\n",
      "50000/50000 [==============================] - 3s 62us/step - loss: 0.7731 - accuracy: 0.7504 - val_loss: 1.5135 - val_accuracy: 0.4935\n",
      "Epoch 35/50\n",
      "50000/50000 [==============================] - 3s 62us/step - loss: 0.7529 - accuracy: 0.7578 - val_loss: 1.5135 - val_accuracy: 0.4978\n",
      "Epoch 36/50\n",
      "50000/50000 [==============================] - 3s 62us/step - loss: 0.7325 - accuracy: 0.7671 - val_loss: 1.5246 - val_accuracy: 0.4939\n",
      "Epoch 37/50\n",
      "50000/50000 [==============================] - 3s 62us/step - loss: 0.7153 - accuracy: 0.7736 - val_loss: 1.5348 - val_accuracy: 0.4928\n",
      "Epoch 38/50\n",
      "50000/50000 [==============================] - 3s 62us/step - loss: 0.6963 - accuracy: 0.7815 - val_loss: 1.5548 - val_accuracy: 0.4956\n",
      "Epoch 39/50\n",
      "50000/50000 [==============================] - 3s 62us/step - loss: 0.6773 - accuracy: 0.7882 - val_loss: 1.5538 - val_accuracy: 0.4918\n",
      "Epoch 40/50\n",
      "50000/50000 [==============================] - 3s 65us/step - loss: 0.6598 - accuracy: 0.7963 - val_loss: 1.5574 - val_accuracy: 0.4905\n",
      "Epoch 41/50\n",
      "50000/50000 [==============================] - 3s 63us/step - loss: 0.6405 - accuracy: 0.8033 - val_loss: 1.5619 - val_accuracy: 0.4945\n",
      "Epoch 42/50\n",
      "50000/50000 [==============================] - 3s 62us/step - loss: 0.6226 - accuracy: 0.8095 - val_loss: 1.5850 - val_accuracy: 0.4863\n",
      "Epoch 43/50\n",
      "50000/50000 [==============================] - 3s 62us/step - loss: 0.6050 - accuracy: 0.8184 - val_loss: 1.5933 - val_accuracy: 0.4959\n",
      "Epoch 44/50\n",
      "50000/50000 [==============================] - 3s 62us/step - loss: 0.5875 - accuracy: 0.8255 - val_loss: 1.6208 - val_accuracy: 0.4883\n",
      "Epoch 45/50\n",
      "50000/50000 [==============================] - 3s 65us/step - loss: 0.5691 - accuracy: 0.8320 - val_loss: 1.6349 - val_accuracy: 0.4882\n",
      "Epoch 46/50\n"
     ]
    },
    {
     "name": "stdout",
     "output_type": "stream",
     "text": [
      "50000/50000 [==============================] - 3s 69us/step - loss: 0.5515 - accuracy: 0.8369 - val_loss: 1.6271 - val_accuracy: 0.4908\n",
      "Epoch 47/50\n",
      "50000/50000 [==============================] - 3s 62us/step - loss: 0.5359 - accuracy: 0.8447 - val_loss: 1.6355 - val_accuracy: 0.4873\n",
      "Epoch 48/50\n",
      "50000/50000 [==============================] - 3s 62us/step - loss: 0.5193 - accuracy: 0.8513 - val_loss: 1.6748 - val_accuracy: 0.4833\n",
      "Epoch 49/50\n",
      "50000/50000 [==============================] - 3s 62us/step - loss: 0.5026 - accuracy: 0.8565 - val_loss: 1.6890 - val_accuracy: 0.4888\n",
      "Epoch 50/50\n",
      "50000/50000 [==============================] - 3s 62us/step - loss: 0.4847 - accuracy: 0.8650 - val_loss: 1.6732 - val_accuracy: 0.4903\n"
     ]
    },
    {
     "data": {
      "text/plain": [
       "<keras.callbacks.callbacks.History at 0x2bb62d49808>"
      ]
     },
     "execution_count": 7,
     "metadata": {},
     "output_type": "execute_result"
    }
   ],
   "source": [
    "\"\"\"\n",
    "# 載入 Callbacks, 並將監控目標設為 validation loss, 且只存最佳參數時的模型\n",
    "\"\"\"\n",
    "from keras.callbacks import ModelCheckpoint\n",
    "\n",
    "model_ckpt = ModelCheckpoint(filepath=\"./tmp.h5\", \n",
    "                             monitor=\"val_loss\", \n",
    "                             save_best_only=True)\n",
    "\n",
    "model = build_mlp(input_shape=x_train.shape[1:])\n",
    "model.summary()\n",
    "optimizer = keras.optimizers.SGD(lr=LEARNING_RATE, nesterov=True, momentum=MOMENTUM)\n",
    "model.compile(loss=\"categorical_crossentropy\", metrics=[\"accuracy\"], optimizer=optimizer)\n",
    "\n",
    "model.fit(x_train, y_train, \n",
    "          epochs=EPOCHS, \n",
    "          batch_size=BATCH_SIZE, \n",
    "          validation_data=(x_test, y_test), \n",
    "          shuffle=True,\n",
    "          callbacks=[model_ckpt]\n",
    "         )"
   ]
  },
  {
   "cell_type": "code",
   "execution_count": 8,
   "metadata": {},
   "outputs": [
    {
     "name": "stdout",
     "output_type": "stream",
     "text": [
      "10000/10000 [==============================] - 1s 52us/step\n"
     ]
    }
   ],
   "source": [
    "# Collect results\n",
    "train_loss = model.history.history[\"loss\"]\n",
    "valid_loss = model.history.history[\"val_loss\"]\n",
    "train_acc = model.history.history[\"accuracy\"]\n",
    "valid_acc = model.history.history[\"val_accuracy\"]\n",
    "\n",
    "# Load back\n",
    "model = keras.models.load_model(\"./tmp.h5\")\n",
    "loss_loadback, acc_loadback = model.evaluate(x_test, y_test)"
   ]
  },
  {
   "cell_type": "code",
   "execution_count": 9,
   "metadata": {
    "scrolled": true
   },
   "outputs": [
    {
     "data": {
      "image/png": "[encoded data removed]",
      "text/plain": [
       "<Figure size 432x288 with 1 Axes>"
      ]
     },
     "metadata": {
      "needs_background": "light"
     },
     "output_type": "display_data"
    },
    {
     "data": {
      "image/png": "[encoded data removed]",
      "text/plain": [
       "<Figure size 432x288 with 1 Axes>"
      ]
     },
     "metadata": {
      "needs_background": "light"
     },
     "output_type": "display_data"
    }
   ],
   "source": [
    "import matplotlib.pyplot as plt\n",
    "%matplotlib inline\n",
    "\n",
    "plt.plot(range(len(train_loss)), train_loss, label=\"train loss\")\n",
    "plt.plot(range(len(valid_loss)), valid_loss, label=\"valid loss\")\n",
    "plt.hlines(y=loss_loadback, xmin=0, xmax=len(train_loss), colors='r', linestyles='--')\n",
    "plt.legend()\n",
    "plt.title(\"Loss\")\n",
    "plt.show()\n",
    "\n",
    "plt.plot(range(len(train_acc)), train_acc, label=\"train accuracy\")\n",
    "plt.plot(range(len(valid_acc)), valid_acc, label=\"valid accuracy\")\n",
    "plt.hlines(y=acc_loadback, xmin=0, xmax=len(train_loss), colors='r', linestyles='--')\n",
    "plt.legend()\n",
    "plt.title(\"Accuracy\")\n",
    "plt.show()"
   ]
  },
  {
   "cell_type": "code",
   "execution_count": 10,
   "metadata": {},
   "outputs": [
    {
     "name": "stdout",
     "output_type": "stream",
     "text": [
      "Model: \"model_2\"\n",
      "_________________________________________________________________\n",
      "Layer (type)                 Output Shape              Param #   \n",
      "=================================================================\n",
      "input_2 (InputLayer)         (None, 3072)              0         \n",
      "_________________________________________________________________\n",
      "hidden_layer1 (Dense)        (None, 512)               1573376   \n",
      "_________________________________________________________________\n",
      "batch_normalization_4 (Batch (None, 512)               2048      \n",
      "_________________________________________________________________\n",
      "hidden_layer2 (Dense)        (None, 256)               131328    \n",
      "_________________________________________________________________\n",
      "batch_normalization_5 (Batch (None, 256)               1024      \n",
      "_________________________________________________________________\n",
      "hidden_layer3 (Dense)        (None, 128)               32896     \n",
      "_________________________________________________________________\n",
      "batch_normalization_6 (Batch (None, 128)               512       \n",
      "_________________________________________________________________\n",
      "output (Dense)               (None, 10)                1290      \n",
      "=================================================================\n",
      "Total params: 1,742,474\n",
      "Trainable params: 1,740,682\n",
      "Non-trainable params: 1,792\n",
      "_________________________________________________________________\n",
      "Train on 50000 samples, validate on 10000 samples\n",
      "Epoch 1/50\n",
      "50000/50000 [==============================] - 3s 67us/step - loss: 2.2422 - accuracy: 0.2662 - val_loss: 2.1450 - val_accuracy: 0.2109\n",
      "Epoch 2/50\n",
      "50000/50000 [==============================] - 3s 66us/step - loss: 1.7478 - accuracy: 0.3936 - val_loss: 1.9564 - val_accuracy: 0.3133\n",
      "Epoch 3/50\n",
      "50000/50000 [==============================] - 3s 68us/step - loss: 1.6177 - accuracy: 0.4353 - val_loss: 1.8146 - val_accuracy: 0.3861\n",
      "Epoch 4/50\n",
      "50000/50000 [==============================] - 3s 64us/step - loss: 1.5445 - accuracy: 0.4622 - val_loss: 1.7082 - val_accuracy: 0.4205\n",
      "Epoch 5/50\n",
      "50000/50000 [==============================] - 3s 64us/step - loss: 1.4890 - accuracy: 0.4796 - val_loss: 1.6260 - val_accuracy: 0.4339\n",
      "Epoch 6/50\n",
      "50000/50000 [==============================] - 3s 64us/step - loss: 1.4442 - accuracy: 0.4969 - val_loss: 1.5616 - val_accuracy: 0.4511\n",
      "Epoch 7/50\n",
      "50000/50000 [==============================] - 3s 64us/step - loss: 1.4032 - accuracy: 0.5115 - val_loss: 1.5355 - val_accuracy: 0.4544\n",
      "Epoch 8/50\n",
      "50000/50000 [==============================] - 3s 67us/step - loss: 1.3690 - accuracy: 0.5239 - val_loss: 1.5123 - val_accuracy: 0.4649\n",
      "Epoch 9/50\n",
      "50000/50000 [==============================] - 3s 64us/step - loss: 1.3372 - accuracy: 0.5350 - val_loss: 1.5033 - val_accuracy: 0.4689\n",
      "Epoch 10/50\n",
      "50000/50000 [==============================] - 3s 66us/step - loss: 1.3060 - accuracy: 0.5459 - val_loss: 1.4992 - val_accuracy: 0.4728\n",
      "Epoch 11/50\n",
      "50000/50000 [==============================] - 3s 64us/step - loss: 1.2784 - accuracy: 0.5569 - val_loss: 1.4738 - val_accuracy: 0.4749\n",
      "Epoch 12/50\n",
      "50000/50000 [==============================] - 3s 66us/step - loss: 1.2517 - accuracy: 0.5653 - val_loss: 1.4705 - val_accuracy: 0.4796\n",
      "Epoch 13/50\n",
      "50000/50000 [==============================] - 3s 64us/step - loss: 1.2259 - accuracy: 0.5760 - val_loss: 1.4690 - val_accuracy: 0.4791\n",
      "Epoch 14/50\n",
      "50000/50000 [==============================] - 3s 64us/step - loss: 1.1999 - accuracy: 0.5852 - val_loss: 1.4658 - val_accuracy: 0.4836\n",
      "Epoch 15/50\n",
      "50000/50000 [==============================] - 3s 64us/step - loss: 1.1771 - accuracy: 0.5943 - val_loss: 1.4607 - val_accuracy: 0.4880\n",
      "Epoch 16/50\n",
      "50000/50000 [==============================] - 3s 64us/step - loss: 1.1521 - accuracy: 0.6032 - val_loss: 1.4645 - val_accuracy: 0.4858\n",
      "Epoch 17/50\n",
      "50000/50000 [==============================] - 3s 66us/step - loss: 1.1313 - accuracy: 0.6107 - val_loss: 1.4659 - val_accuracy: 0.4811\n",
      "Epoch 18/50\n",
      "50000/50000 [==============================] - 3s 65us/step - loss: 1.1071 - accuracy: 0.6209 - val_loss: 1.4583 - val_accuracy: 0.4897\n",
      "Epoch 19/50\n",
      "50000/50000 [==============================] - 3s 64us/step - loss: 1.0855 - accuracy: 0.6281 - val_loss: 1.4695 - val_accuracy: 0.4838\n",
      "Epoch 20/50\n",
      "50000/50000 [==============================] - 3s 64us/step - loss: 1.0632 - accuracy: 0.6368 - val_loss: 1.4560 - val_accuracy: 0.4878\n",
      "Epoch 21/50\n",
      "50000/50000 [==============================] - 3s 64us/step - loss: 1.0412 - accuracy: 0.6448 - val_loss: 1.4530 - val_accuracy: 0.4890\n",
      "Epoch 22/50\n",
      "50000/50000 [==============================] - 3s 63us/step - loss: 1.0186 - accuracy: 0.6550 - val_loss: 1.4542 - val_accuracy: 0.4946\n",
      "Epoch 23/50\n",
      "50000/50000 [==============================] - 3s 63us/step - loss: 0.9973 - accuracy: 0.6628 - val_loss: 1.4563 - val_accuracy: 0.4954\n",
      "Epoch 24/50\n",
      "50000/50000 [==============================] - 3s 63us/step - loss: 0.9772 - accuracy: 0.6713 - val_loss: 1.4573 - val_accuracy: 0.4962\n",
      "Epoch 25/50\n",
      "50000/50000 [==============================] - 3s 66us/step - loss: 0.9551 - accuracy: 0.6788 - val_loss: 1.4534 - val_accuracy: 0.5017\n",
      "Epoch 26/50\n",
      "50000/50000 [==============================] - 3s 63us/step - loss: 0.9346 - accuracy: 0.6868 - val_loss: 1.4628 - val_accuracy: 0.4954\n",
      "Epoch 27/50\n",
      "50000/50000 [==============================] - 3s 63us/step - loss: 0.9139 - accuracy: 0.6961 - val_loss: 1.4702 - val_accuracy: 0.4930\n",
      "Epoch 28/50\n",
      "50000/50000 [==============================] - 3s 66us/step - loss: 0.8933 - accuracy: 0.7036 - val_loss: 1.4670 - val_accuracy: 0.4955\n",
      "Epoch 29/50\n",
      "50000/50000 [==============================] - 3s 63us/step - loss: 0.8739 - accuracy: 0.7132 - val_loss: 1.4704 - val_accuracy: 0.4956\n",
      "Epoch 30/50\n",
      "50000/50000 [==============================] - 3s 63us/step - loss: 0.8543 - accuracy: 0.7182 - val_loss: 1.4854 - val_accuracy: 0.4957\n",
      "Epoch 31/50\n",
      "50000/50000 [==============================] - 3s 65us/step - loss: 0.8338 - accuracy: 0.7277 - val_loss: 1.4880 - val_accuracy: 0.4988\n",
      "Epoch 32/50\n",
      "50000/50000 [==============================] - 3s 63us/step - loss: 0.8148 - accuracy: 0.7342 - val_loss: 1.4938 - val_accuracy: 0.4954\n",
      "Epoch 33/50\n",
      "50000/50000 [==============================] - 3s 63us/step - loss: 0.7928 - accuracy: 0.7431 - val_loss: 1.5017 - val_accuracy: 0.4941\n",
      "Epoch 34/50\n",
      "50000/50000 [==============================] - 3s 63us/step - loss: 0.7757 - accuracy: 0.7498 - val_loss: 1.5111 - val_accuracy: 0.4972\n",
      "Epoch 35/50\n",
      "50000/50000 [==============================] - 3s 63us/step - loss: 0.7563 - accuracy: 0.7578 - val_loss: 1.5125 - val_accuracy: 0.4971\n",
      "Epoch 36/50\n",
      "50000/50000 [==============================] - 3s 67us/step - loss: 0.7360 - accuracy: 0.7663 - val_loss: 1.5256 - val_accuracy: 0.4966\n",
      "Epoch 37/50\n",
      "50000/50000 [==============================] - 3s 63us/step - loss: 0.7170 - accuracy: 0.7733 - val_loss: 1.5444 - val_accuracy: 0.4999\n",
      "Epoch 38/50\n",
      "50000/50000 [==============================] - 3s 63us/step - loss: 0.7004 - accuracy: 0.7812 - val_loss: 1.5376 - val_accuracy: 0.4993\n",
      "Epoch 39/50\n",
      "50000/50000 [==============================] - 3s 63us/step - loss: 0.6819 - accuracy: 0.7870 - val_loss: 1.5617 - val_accuracy: 0.4959\n",
      "Epoch 40/50\n",
      "50000/50000 [==============================] - 3s 63us/step - loss: 0.6621 - accuracy: 0.7953 - val_loss: 1.5705 - val_accuracy: 0.4894\n",
      "Epoch 41/50\n",
      "50000/50000 [==============================] - 3s 63us/step - loss: 0.6440 - accuracy: 0.8025 - val_loss: 1.5959 - val_accuracy: 0.4888\n",
      "Epoch 42/50\n",
      "50000/50000 [==============================] - 3s 63us/step - loss: 0.6276 - accuracy: 0.8085 - val_loss: 1.5890 - val_accuracy: 0.4957\n",
      "Epoch 43/50\n",
      "50000/50000 [==============================] - 3s 63us/step - loss: 0.6070 - accuracy: 0.8189 - val_loss: 1.6211 - val_accuracy: 0.4898\n",
      "Epoch 44/50\n",
      "50000/50000 [==============================] - 3s 63us/step - loss: 0.5911 - accuracy: 0.8243 - val_loss: 1.6208 - val_accuracy: 0.4950\n",
      "Epoch 45/50\n",
      "50000/50000 [==============================] - 3s 66us/step - loss: 0.5733 - accuracy: 0.8311 - val_loss: 1.6086 - val_accuracy: 0.4948\n",
      "Epoch 46/50\n"
     ]
    },
    {
     "name": "stdout",
     "output_type": "stream",
     "text": [
      "50000/50000 [==============================] - 3s 64us/step - loss: 0.5547 - accuracy: 0.8383 - val_loss: 1.6267 - val_accuracy: 0.4907\n",
      "Epoch 47/50\n",
      "50000/50000 [==============================] - 3s 63us/step - loss: 0.5390 - accuracy: 0.8455 - val_loss: 1.6322 - val_accuracy: 0.4950\n",
      "Epoch 48/50\n",
      "50000/50000 [==============================] - 3s 63us/step - loss: 0.5208 - accuracy: 0.8521 - val_loss: 1.6564 - val_accuracy: 0.4868\n",
      "Epoch 49/50\n",
      "50000/50000 [==============================] - 3s 63us/step - loss: 0.5053 - accuracy: 0.8592 - val_loss: 1.7022 - val_accuracy: 0.4910\n",
      "Epoch 50/50\n",
      "50000/50000 [==============================] - 3s 63us/step - loss: 0.4913 - accuracy: 0.8639 - val_loss: 1.6765 - val_accuracy: 0.4870\n"
     ]
    },
    {
     "data": {
      "text/plain": [
       "<keras.callbacks.callbacks.History at 0x2bb70b17688>"
      ]
     },
     "execution_count": 10,
     "metadata": {},
     "output_type": "execute_result"
    }
   ],
   "source": [
    "\"\"\"\n",
    "# 載入 Callbacks, 並將監控目標設為 validation loss, 且只存最佳參數時的模型\n",
    "\"\"\"\n",
    "from keras.callbacks import ModelCheckpoint\n",
    "\n",
    "model_ckpt = ModelCheckpoint(filepath=\"./tmp.h5\", \n",
    "                             monitor=\"val_loss\", \n",
    "                             save_best_only=False)\n",
    "\n",
    "model = build_mlp(input_shape=x_train.shape[1:])\n",
    "model.summary()\n",
    "optimizer = keras.optimizers.SGD(lr=LEARNING_RATE, nesterov=True, momentum=MOMENTUM)\n",
    "model.compile(loss=\"categorical_crossentropy\", metrics=[\"accuracy\"], optimizer=optimizer)\n",
    "\n",
    "model.fit(x_train, y_train, \n",
    "          epochs=EPOCHS, \n",
    "          batch_size=BATCH_SIZE, \n",
    "          validation_data=(x_test, y_test), \n",
    "          shuffle=True,\n",
    "          callbacks=[model_ckpt]\n",
    "         )"
   ]
  },
  {
   "cell_type": "code",
   "execution_count": 11,
   "metadata": {},
   "outputs": [
    {
     "name": "stdout",
     "output_type": "stream",
     "text": [
      "10000/10000 [==============================] - 0s 45us/step\n"
     ]
    }
   ],
   "source": [
    "# Collect results\n",
    "train_loss = model.history.history[\"loss\"]\n",
    "valid_loss = model.history.history[\"val_loss\"]\n",
    "train_acc = model.history.history[\"accuracy\"]\n",
    "valid_acc = model.history.history[\"val_accuracy\"]\n",
    "\n",
    "# Load back\n",
    "model = keras.models.load_model(\"./tmp.h5\")\n",
    "loss_loadback, acc_loadback = model.evaluate(x_test, y_test)"
   ]
  },
  {
   "cell_type": "code",
   "execution_count": 12,
   "metadata": {},
   "outputs": [
    {
     "data": {
      "image/png": "[encoded data removed]",
      "text/plain": [
       "<Figure size 432x288 with 1 Axes>"
      ]
     },
     "metadata": {
      "needs_background": "light"
     },
     "output_type": "display_data"
    },
    {
     "data": {
      "image/png": "[encoded data removed]",
      "text/plain": [
       "<Figure size 432x288 with 1 Axes>"
      ]
     },
     "metadata": {
      "needs_background": "light"
     },
     "output_type": "display_data"
    }
   ],
   "source": [
    "import matplotlib.pyplot as plt\n",
    "%matplotlib inline\n",
    "\n",
    "plt.plot(range(len(train_loss)), train_loss, label=\"train loss\")\n",
    "plt.plot(range(len(valid_loss)), valid_loss, label=\"valid loss\")\n",
    "plt.hlines(y=loss_loadback, xmin=0, xmax=len(train_loss), colors='r', linestyles='--')\n",
    "plt.legend()\n",
    "plt.title(\"Loss\")\n",
    "plt.show()\n",
    "\n",
    "plt.plot(range(len(train_acc)), train_acc, label=\"train accuracy\")\n",
    "plt.plot(range(len(valid_acc)), valid_acc, label=\"valid accuracy\")\n",
    "plt.hlines(y=acc_loadback, xmin=0, xmax=len(train_loss), colors='r', linestyles='--')\n",
    "plt.legend()\n",
    "plt.title(\"Accuracy\")\n",
    "plt.show()"
   ]
  }
 ],
 "metadata": {
  "kernelspec": {
   "display_name": "Python 3",
   "language": "python",
   "name": "python3"
  },
  "language_info": {
   "codemirror_mode": {
    "name": "ipython",
    "version": 3
   },
   "file_extension": ".py",
   "mimetype": "text/x-python",
   "name": "python",
   "nbconvert_exporter": "python",
   "pygments_lexer": "ipython3",
   "version": "3.7.4"
  }
 },
 "nbformat": 4,
 "nbformat_minor": 2
}
