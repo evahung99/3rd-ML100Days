{
 "cells": [
  {
   "cell_type": "markdown",
   "metadata": {},
   "source": [
    "## Work\n",
    "1. 試改變 monitor \"Validation Accuracy\" 並比較結果\n",
    "2. 調整 earlystop 的等待次數至 10, 25 並比較結果"
   ]
  },
  {
   "cell_type": "code",
   "execution_count": 1,
   "metadata": {},
   "outputs": [],
   "source": [
    "import os\n",
    "import keras\n",
    "import matplotlib.pyplot as plt\n",
    "%matplotlib inline\n",
    "\n",
    "\n",
    "# Disable GPU\n",
    "os.environ[\"CUDA_VISIBLE_DEVICES\"] = \"\""
   ]
  },
  {
   "cell_type": "code",
   "execution_count": 2,
   "metadata": {},
   "outputs": [],
   "source": [
    "train, test = keras.datasets.cifar10.load_data()"
   ]
  },
  {
   "cell_type": "code",
   "execution_count": 3,
   "metadata": {},
   "outputs": [],
   "source": [
    "## 資料前處理\n",
    "def preproc_x(x, flatten=True):\n",
    "    x = x / 255.\n",
    "    if flatten:\n",
    "        x = x.reshape((len(x), -1))\n",
    "    return x\n",
    "\n",
    "def preproc_y(y, num_classes=10):\n",
    "    if y.shape[-1] == 1:\n",
    "        y = keras.utils.to_categorical(y, num_classes)\n",
    "    return y    "
   ]
  },
  {
   "cell_type": "code",
   "execution_count": 4,
   "metadata": {},
   "outputs": [],
   "source": [
    "x_train, y_train = train\n",
    "x_test, y_test = test\n",
    "\n",
    "# Preproc the inputs\n",
    "x_train = preproc_x(x_train)\n",
    "x_test = preproc_x(x_test)\n",
    "\n",
    "# Preprc the outputs\n",
    "y_train = preproc_y(y_train)\n",
    "y_test = preproc_y(y_test)"
   ]
  },
  {
   "cell_type": "code",
   "execution_count": 5,
   "metadata": {},
   "outputs": [],
   "source": [
    "from keras.layers import BatchNormalization\n",
    "\n",
    "\"\"\"\n",
    "建立神經網路，並加入 BN layer\n",
    "\"\"\"\n",
    "def build_mlp(input_shape, output_units=10, num_neurons=[512, 256, 128]):\n",
    "    input_layer = keras.layers.Input(input_shape)\n",
    "    \n",
    "    for i, n_units in enumerate(num_neurons):\n",
    "        if i == 0:\n",
    "            x = keras.layers.Dense(units=n_units, \n",
    "                                   activation=\"relu\", \n",
    "                                   name=\"hidden_layer\"+str(i+1))(input_layer)\n",
    "            x = BatchNormalization()(x)\n",
    "        else:\n",
    "            x = keras.layers.Dense(units=n_units, \n",
    "                                   activation=\"relu\", \n",
    "                                   name=\"hidden_layer\"+str(i+1))(x)\n",
    "            x = BatchNormalization()(x)\n",
    "    \n",
    "    out = keras.layers.Dense(units=output_units, activation=\"softmax\", name=\"output\")(x)\n",
    "    \n",
    "    model = keras.models.Model(inputs=[input_layer], outputs=[out])\n",
    "    return model"
   ]
  },
  {
   "cell_type": "code",
   "execution_count": 6,
   "metadata": {},
   "outputs": [],
   "source": [
    "## 超參數設定\n",
    "LEARNING_RATE = 1e-3\n",
    "EPOCHS = 50\n",
    "BATCH_SIZE = 1024\n",
    "MOMENTUM = 0.95"
   ]
  },
  {
   "cell_type": "code",
   "execution_count": 7,
   "metadata": {},
   "outputs": [
    {
     "name": "stdout",
     "output_type": "stream",
     "text": [
      "Model: \"model_1\"\n",
      "_________________________________________________________________\n",
      "Layer (type)                 Output Shape              Param #   \n",
      "=================================================================\n",
      "input_1 (InputLayer)         (None, 3072)              0         \n",
      "_________________________________________________________________\n",
      "hidden_layer1 (Dense)        (None, 512)               1573376   \n",
      "_________________________________________________________________\n",
      "batch_normalization_1 (Batch (None, 512)               2048      \n",
      "_________________________________________________________________\n",
      "hidden_layer2 (Dense)        (None, 256)               131328    \n",
      "_________________________________________________________________\n",
      "batch_normalization_2 (Batch (None, 256)               1024      \n",
      "_________________________________________________________________\n",
      "hidden_layer3 (Dense)        (None, 128)               32896     \n",
      "_________________________________________________________________\n",
      "batch_normalization_3 (Batch (None, 128)               512       \n",
      "_________________________________________________________________\n",
      "output (Dense)               (None, 10)                1290      \n",
      "=================================================================\n",
      "Total params: 1,742,474\n",
      "Trainable params: 1,740,682\n",
      "Non-trainable params: 1,792\n",
      "_________________________________________________________________\n",
      "Train on 50000 samples, validate on 10000 samples\n",
      "Epoch 1/50\n",
      "50000/50000 [==============================] - 3s 61us/step - loss: 2.1878 - accuracy: 0.2730 - val_loss: 2.1110 - val_accuracy: 0.2195\n",
      "Epoch 2/50\n",
      " 3072/50000 [>.............................] - ETA: 2s - loss: 1.7923 - accuracy: 0.3662"
     ]
    },
    {
     "name": "stderr",
     "output_type": "stream",
     "text": [
      "C:\\Users\\EvaHung\\Anaconda3\\lib\\site-packages\\keras\\callbacks\\callbacks.py:846: RuntimeWarning: Early stopping conditioned on metric `val_acc` which is not available. Available metrics are: val_loss,val_accuracy,loss,accuracy\n",
      "  (self.monitor, ','.join(list(logs.keys()))), RuntimeWarning\n"
     ]
    },
    {
     "name": "stdout",
     "output_type": "stream",
     "text": [
      "50000/50000 [==============================] - 3s 55us/step - loss: 1.7433 - accuracy: 0.3929 - val_loss: 1.9424 - val_accuracy: 0.3164\n",
      "Epoch 3/50\n",
      "50000/50000 [==============================] - 3s 57us/step - loss: 1.6157 - accuracy: 0.4376 - val_loss: 1.8147 - val_accuracy: 0.3673\n",
      "Epoch 4/50\n",
      "50000/50000 [==============================] - 3s 55us/step - loss: 1.5434 - accuracy: 0.4617 - val_loss: 1.7125 - val_accuracy: 0.4065\n",
      "Epoch 5/50\n",
      "50000/50000 [==============================] - 3s 56us/step - loss: 1.4869 - accuracy: 0.4802 - val_loss: 1.6485 - val_accuracy: 0.4206\n",
      "Epoch 6/50\n",
      "50000/50000 [==============================] - 3s 61us/step - loss: 1.4415 - accuracy: 0.4980 - val_loss: 1.5863 - val_accuracy: 0.4379\n",
      "Epoch 7/50\n",
      "50000/50000 [==============================] - 3s 65us/step - loss: 1.4023 - accuracy: 0.5121 - val_loss: 1.5569 - val_accuracy: 0.4439\n",
      "Epoch 8/50\n",
      "50000/50000 [==============================] - 3s 63us/step - loss: 1.3662 - accuracy: 0.5245 - val_loss: 1.5173 - val_accuracy: 0.4679\n",
      "Epoch 9/50\n",
      "50000/50000 [==============================] - 3s 63us/step - loss: 1.3344 - accuracy: 0.5377 - val_loss: 1.5011 - val_accuracy: 0.4674\n",
      "Epoch 10/50\n",
      "50000/50000 [==============================] - 3s 62us/step - loss: 1.3052 - accuracy: 0.5477 - val_loss: 1.4896 - val_accuracy: 0.4747\n",
      "Epoch 11/50\n",
      "50000/50000 [==============================] - 3s 64us/step - loss: 1.2756 - accuracy: 0.5578 - val_loss: 1.4849 - val_accuracy: 0.4707\n",
      "Epoch 12/50\n",
      "50000/50000 [==============================] - 3s 64us/step - loss: 1.2470 - accuracy: 0.5675 - val_loss: 1.4755 - val_accuracy: 0.4775\n",
      "Epoch 13/50\n",
      "50000/50000 [==============================] - 3s 67us/step - loss: 1.2226 - accuracy: 0.5788 - val_loss: 1.4696 - val_accuracy: 0.4820\n",
      "Epoch 14/50\n",
      "50000/50000 [==============================] - 3s 62us/step - loss: 1.1987 - accuracy: 0.5867 - val_loss: 1.4754 - val_accuracy: 0.4796\n",
      "Epoch 15/50\n",
      "50000/50000 [==============================] - 3s 63us/step - loss: 1.1732 - accuracy: 0.5978 - val_loss: 1.4747 - val_accuracy: 0.4788\n",
      "Epoch 16/50\n",
      "50000/50000 [==============================] - 3s 64us/step - loss: 1.1495 - accuracy: 0.6053 - val_loss: 1.4662 - val_accuracy: 0.4845\n",
      "Epoch 17/50\n",
      "50000/50000 [==============================] - 3s 64us/step - loss: 1.1264 - accuracy: 0.6136 - val_loss: 1.4772 - val_accuracy: 0.4819\n",
      "Epoch 18/50\n",
      "50000/50000 [==============================] - 3s 64us/step - loss: 1.1034 - accuracy: 0.6236 - val_loss: 1.4538 - val_accuracy: 0.4870\n",
      "Epoch 19/50\n",
      "50000/50000 [==============================] - 3s 62us/step - loss: 1.0817 - accuracy: 0.6317 - val_loss: 1.4567 - val_accuracy: 0.4902\n",
      "Epoch 20/50\n",
      "50000/50000 [==============================] - 3s 63us/step - loss: 1.0589 - accuracy: 0.6400 - val_loss: 1.4592 - val_accuracy: 0.4890\n",
      "Epoch 21/50\n",
      "50000/50000 [==============================] - 3s 61us/step - loss: 1.0372 - accuracy: 0.6479 - val_loss: 1.4544 - val_accuracy: 0.4952\n",
      "Epoch 22/50\n",
      "50000/50000 [==============================] - 3s 65us/step - loss: 1.0157 - accuracy: 0.6566 - val_loss: 1.4569 - val_accuracy: 0.4947\n",
      "Epoch 23/50\n",
      "50000/50000 [==============================] - 3s 62us/step - loss: 0.9951 - accuracy: 0.6644 - val_loss: 1.4512 - val_accuracy: 0.4931\n",
      "Epoch 24/50\n",
      "50000/50000 [==============================] - 3s 62us/step - loss: 0.9717 - accuracy: 0.6724 - val_loss: 1.4541 - val_accuracy: 0.4957\n",
      "Epoch 25/50\n",
      "50000/50000 [==============================] - 3s 62us/step - loss: 0.9510 - accuracy: 0.6813 - val_loss: 1.4615 - val_accuracy: 0.4907\n",
      "Epoch 26/50\n",
      "50000/50000 [==============================] - 3s 62us/step - loss: 0.9316 - accuracy: 0.6897 - val_loss: 1.4881 - val_accuracy: 0.4920\n",
      "Epoch 27/50\n",
      "50000/50000 [==============================] - 3s 62us/step - loss: 0.9097 - accuracy: 0.6958 - val_loss: 1.4689 - val_accuracy: 0.4950\n",
      "Epoch 28/50\n",
      "50000/50000 [==============================] - 3s 62us/step - loss: 0.8869 - accuracy: 0.7069 - val_loss: 1.4758 - val_accuracy: 0.4928\n",
      "Epoch 29/50\n",
      "50000/50000 [==============================] - 3s 62us/step - loss: 0.8677 - accuracy: 0.7143 - val_loss: 1.4874 - val_accuracy: 0.4878\n",
      "Epoch 30/50\n",
      "50000/50000 [==============================] - 3s 63us/step - loss: 0.8498 - accuracy: 0.7209 - val_loss: 1.5068 - val_accuracy: 0.485881 - accura\n",
      "Epoch 31/50\n",
      "50000/50000 [==============================] - 3s 62us/step - loss: 0.8285 - accuracy: 0.7271 - val_loss: 1.4920 - val_accuracy: 0.4987\n",
      "Epoch 32/50\n",
      "50000/50000 [==============================] - 3s 63us/step - loss: 0.8068 - accuracy: 0.7383 - val_loss: 1.4901 - val_accuracy: 0.4992\n",
      "Epoch 33/50\n",
      "50000/50000 [==============================] - 3s 66us/step - loss: 0.7898 - accuracy: 0.7439 - val_loss: 1.5046 - val_accuracy: 0.4909\n",
      "Epoch 34/50\n",
      "50000/50000 [==============================] - 3s 64us/step - loss: 0.7707 - accuracy: 0.7508 - val_loss: 1.5405 - val_accuracy: 0.4836\n",
      "Epoch 35/50\n",
      "50000/50000 [==============================] - 3s 63us/step - loss: 0.7498 - accuracy: 0.7608 - val_loss: 1.5167 - val_accuracy: 0.4947y: \n",
      "Epoch 36/50\n",
      "50000/50000 [==============================] - 3s 65us/step - loss: 0.7301 - accuracy: 0.7680 - val_loss: 1.5294 - val_accuracy: 0.4853\n",
      "Epoch 37/50\n",
      "50000/50000 [==============================] - 3s 67us/step - loss: 0.7122 - accuracy: 0.7738 - val_loss: 1.5352 - val_accuracy: 0.4969\n",
      "Epoch 38/50\n",
      "50000/50000 [==============================] - 3s 67us/step - loss: 0.6938 - accuracy: 0.7828 - val_loss: 1.5318 - val_accuracy: 0.5010\n",
      "Epoch 39/50\n",
      "50000/50000 [==============================] - 3s 65us/step - loss: 0.6750 - accuracy: 0.7908 - val_loss: 1.5717 - val_accuracy: 0.4889\n",
      "Epoch 40/50\n",
      "50000/50000 [==============================] - 3s 64us/step - loss: 0.6562 - accuracy: 0.7983 - val_loss: 1.5610 - val_accuracy: 0.4901\n",
      "Epoch 41/50\n",
      "50000/50000 [==============================] - 3s 67us/step - loss: 0.6399 - accuracy: 0.8041 - val_loss: 1.5863 - val_accuracy: 0.4922\n",
      "Epoch 42/50\n",
      "50000/50000 [==============================] - 3s 66us/step - loss: 0.6191 - accuracy: 0.8105 - val_loss: 1.5762 - val_accuracy: 0.4966\n",
      "Epoch 43/50\n",
      "50000/50000 [==============================] - 3s 65us/step - loss: 0.6019 - accuracy: 0.8198 - val_loss: 1.5925 - val_accuracy: 0.4880\n",
      "Epoch 44/50\n",
      "50000/50000 [==============================] - 3s 64us/step - loss: 0.5875 - accuracy: 0.8241 - val_loss: 1.5952 - val_accuracy: 0.4925\n",
      "Epoch 45/50\n",
      "50000/50000 [==============================] - 3s 63us/step - loss: 0.5660 - accuracy: 0.8335 - val_loss: 1.6406 - val_accuracy: 0.4842\n",
      "Epoch 46/50\n",
      "50000/50000 [==============================] - 3s 62us/step - loss: 0.5508 - accuracy: 0.8386 - val_loss: 1.6461 - val_accuracy: 0.4931\n",
      "Epoch 47/50\n",
      "50000/50000 [==============================] - 3s 63us/step - loss: 0.5344 - accuracy: 0.8473 - val_loss: 1.6404 - val_accuracy: 0.4911\n",
      "Epoch 48/50\n",
      "50000/50000 [==============================] - 3s 64us/step - loss: 0.5164 - accuracy: 0.8531 - val_loss: 1.6816 - val_accuracy: 0.4805\n",
      "Epoch 49/50\n",
      "50000/50000 [==============================] - 3s 63us/step - loss: 0.4981 - accuracy: 0.8597 - val_loss: 1.6785 - val_accuracy: 0.4823\n",
      "Epoch 50/50\n",
      "50000/50000 [==============================] - 3s 65us/step - loss: 0.4850 - accuracy: 0.8651 - val_loss: 1.6763 - val_accuracy: 0.4847\n"
     ]
    },
    {
     "ename": "KeyError",
     "evalue": "'acc'",
     "output_type": "error",
     "traceback": [
      "\u001b[1;31m---------------------------------------------------------------------------\u001b[0m",
      "\u001b[1;31mKeyError\u001b[0m                                  Traceback (most recent call last)",
      "\u001b[1;32m<ipython-input-7-c14f037ca550>\u001b[0m in \u001b[0;36m<module>\u001b[1;34m\u001b[0m\n\u001b[0;32m     25\u001b[0m \u001b[0mtrain_loss\u001b[0m \u001b[1;33m=\u001b[0m \u001b[0mmodel\u001b[0m\u001b[1;33m.\u001b[0m\u001b[0mhistory\u001b[0m\u001b[1;33m.\u001b[0m\u001b[0mhistory\u001b[0m\u001b[1;33m[\u001b[0m\u001b[1;34m\"loss\"\u001b[0m\u001b[1;33m]\u001b[0m\u001b[1;33m\u001b[0m\u001b[1;33m\u001b[0m\u001b[0m\n\u001b[0;32m     26\u001b[0m \u001b[0mvalid_loss\u001b[0m \u001b[1;33m=\u001b[0m \u001b[0mmodel\u001b[0m\u001b[1;33m.\u001b[0m\u001b[0mhistory\u001b[0m\u001b[1;33m.\u001b[0m\u001b[0mhistory\u001b[0m\u001b[1;33m[\u001b[0m\u001b[1;34m\"val_loss\"\u001b[0m\u001b[1;33m]\u001b[0m\u001b[1;33m\u001b[0m\u001b[1;33m\u001b[0m\u001b[0m\n\u001b[1;32m---> 27\u001b[1;33m \u001b[0mtrain_acc\u001b[0m \u001b[1;33m=\u001b[0m \u001b[0mmodel\u001b[0m\u001b[1;33m.\u001b[0m\u001b[0mhistory\u001b[0m\u001b[1;33m.\u001b[0m\u001b[0mhistory\u001b[0m\u001b[1;33m[\u001b[0m\u001b[1;34m\"acc\"\u001b[0m\u001b[1;33m]\u001b[0m\u001b[1;33m\u001b[0m\u001b[1;33m\u001b[0m\u001b[0m\n\u001b[0m\u001b[0;32m     28\u001b[0m \u001b[0mvalid_acc\u001b[0m \u001b[1;33m=\u001b[0m \u001b[0mmodel\u001b[0m\u001b[1;33m.\u001b[0m\u001b[0mhistory\u001b[0m\u001b[1;33m.\u001b[0m\u001b[0mhistory\u001b[0m\u001b[1;33m[\u001b[0m\u001b[1;34m\"val_acc\"\u001b[0m\u001b[1;33m]\u001b[0m\u001b[1;33m\u001b[0m\u001b[1;33m\u001b[0m\u001b[0m\n",
      "\u001b[1;31mKeyError\u001b[0m: 'acc'"
     ]
    }
   ],
   "source": [
    "# 載入 Callbacks, 改變 monitor \"Validation Accuracy\", 調整 earlystop 的等待次數至 10, 25 並比較結果\n",
    "\"\"\"\n",
    "# 載入 Callbacks, 並將 monitor 設定為監控 Validation Accuracy\n",
    "\"\"\"\n",
    "from keras.callbacks import EarlyStopping\n",
    "\n",
    "earlystop = EarlyStopping(monitor=\"val_acc\", \n",
    "                          patience=10, \n",
    "                          verbose=1\n",
    "                          )\n",
    "model = build_mlp(input_shape=x_train.shape[1:])\n",
    "model.summary()\n",
    "optimizer = keras.optimizers.SGD(lr=LEARNING_RATE, nesterov=True, momentum=MOMENTUM)\n",
    "model.compile(loss=\"categorical_crossentropy\", metrics=[\"accuracy\"], optimizer=optimizer)\n",
    "\n",
    "model.fit(x_train, y_train, \n",
    "          epochs=EPOCHS, \n",
    "          batch_size=BATCH_SIZE, \n",
    "          validation_data=(x_test, y_test), \n",
    "          shuffle=True,\n",
    "          callbacks=[earlystop]\n",
    "         )"
   ]
  },
  {
   "cell_type": "code",
   "execution_count": 8,
   "metadata": {},
   "outputs": [],
   "source": [
    "# Collect results\n",
    "train_loss = model.history.history[\"loss\"]\n",
    "valid_loss = model.history.history[\"val_loss\"]\n",
    "train_acc = model.history.history[\"accuracy\"]\n",
    "valid_acc = model.history.history[\"val_accuracy\"]"
   ]
  },
  {
   "cell_type": "code",
   "execution_count": 10,
   "metadata": {},
   "outputs": [
    {
     "data": {
      "image/png": "[encoded data removed]",
      "text/plain": [
       "<Figure size 432x288 with 1 Axes>"
      ]
     },
     "metadata": {
      "needs_background": "light"
     },
     "output_type": "display_data"
    },
    {
     "data": {
      "image/png": "[encoded data removed]",
      "text/plain": [
       "<Figure size 432x288 with 1 Axes>"
      ]
     },
     "metadata": {
      "needs_background": "light"
     },
     "output_type": "display_data"
    }
   ],
   "source": [
    "import matplotlib.pyplot as plt\n",
    "%matplotlib inline\n",
    "\n",
    "plt.plot(range(len(train_loss)), train_loss, label=\"train loss\")\n",
    "plt.plot(range(len(valid_loss)), valid_loss, label=\"valid loss\")\n",
    "plt.legend()\n",
    "plt.title(\"Loss\")\n",
    "plt.show()\n",
    "\n",
    "plt.plot(range(len(train_acc)), train_acc, label=\"train accuracy\")\n",
    "plt.plot(range(len(valid_acc)), valid_acc, label=\"valid accuracy\")\n",
    "plt.legend()\n",
    "plt.title(\"Accuracy\")\n",
    "plt.show()"
   ]
  },
  {
   "cell_type": "code",
   "execution_count": 9,
   "metadata": {},
   "outputs": [
    {
     "name": "stdout",
     "output_type": "stream",
     "text": [
      "Model: \"model_2\"\n",
      "_________________________________________________________________\n",
      "Layer (type)                 Output Shape              Param #   \n",
      "=================================================================\n",
      "input_2 (InputLayer)         (None, 3072)              0         \n",
      "_________________________________________________________________\n",
      "hidden_layer1 (Dense)        (None, 512)               1573376   \n",
      "_________________________________________________________________\n",
      "batch_normalization_4 (Batch (None, 512)               2048      \n",
      "_________________________________________________________________\n",
      "hidden_layer2 (Dense)        (None, 256)               131328    \n",
      "_________________________________________________________________\n",
      "batch_normalization_5 (Batch (None, 256)               1024      \n",
      "_________________________________________________________________\n",
      "hidden_layer3 (Dense)        (None, 128)               32896     \n",
      "_________________________________________________________________\n",
      "batch_normalization_6 (Batch (None, 128)               512       \n",
      "_________________________________________________________________\n",
      "output (Dense)               (None, 10)                1290      \n",
      "=================================================================\n",
      "Total params: 1,742,474\n",
      "Trainable params: 1,740,682\n",
      "Non-trainable params: 1,792\n",
      "_________________________________________________________________\n",
      "Train on 50000 samples, validate on 10000 samples\n",
      "Epoch 1/50\n",
      "50000/50000 [==============================] - 3s 63us/step - loss: 2.1846 - accuracy: 0.2730 - val_loss: 2.1438 - val_accuracy: 0.1776\n",
      "Epoch 2/50\n",
      " 3072/50000 [>.............................] - ETA: 2s - loss: 1.7846 - accuracy: 0.3822"
     ]
    },
    {
     "name": "stderr",
     "output_type": "stream",
     "text": [
      "C:\\Users\\EvaHung\\Anaconda3\\lib\\site-packages\\keras\\callbacks\\callbacks.py:846: RuntimeWarning: Early stopping conditioned on metric `val_acc` which is not available. Available metrics are: val_loss,val_accuracy,loss,accuracy\n",
      "  (self.monitor, ','.join(list(logs.keys()))), RuntimeWarning\n"
     ]
    },
    {
     "name": "stdout",
     "output_type": "stream",
     "text": [
      "50000/50000 [==============================] - 3s 54us/step - loss: 1.7325 - accuracy: 0.3971 - val_loss: 1.9742 - val_accuracy: 0.2778\n",
      "Epoch 3/50\n",
      "50000/50000 [==============================] - 3s 54us/step - loss: 1.6074 - accuracy: 0.4379 - val_loss: 1.8072 - val_accuracy: 0.3759\n",
      "Epoch 4/50\n",
      "50000/50000 [==============================] - 3s 54us/step - loss: 1.5366 - accuracy: 0.4640 - val_loss: 1.7190 - val_accuracy: 0.4036\n",
      "Epoch 5/50\n",
      "50000/50000 [==============================] - 3s 54us/step - loss: 1.4811 - accuracy: 0.4838 - val_loss: 1.6358 - val_accuracy: 0.4343\n",
      "Epoch 6/50\n",
      "50000/50000 [==============================] - 3s 54us/step - loss: 1.4373 - accuracy: 0.4987 - val_loss: 1.5788 - val_accuracy: 0.4424\n",
      "Epoch 7/50\n",
      "50000/50000 [==============================] - 3s 55us/step - loss: 1.3997 - accuracy: 0.5118 - val_loss: 1.5505 - val_accuracy: 0.4514\n",
      "Epoch 8/50\n",
      "50000/50000 [==============================] - 3s 63us/step - loss: 1.3655 - accuracy: 0.5242 - val_loss: 1.5276 - val_accuracy: 0.4590\n",
      "Epoch 9/50\n",
      "50000/50000 [==============================] - 3s 62us/step - loss: 1.3335 - accuracy: 0.5369 - val_loss: 1.5215 - val_accuracy: 0.4608\n",
      "Epoch 10/50\n",
      "50000/50000 [==============================] - 3s 65us/step - loss: 1.3024 - accuracy: 0.5484 - val_loss: 1.4931 - val_accuracy: 0.4756\n",
      "Epoch 11/50\n",
      "50000/50000 [==============================] - 3s 63us/step - loss: 1.2757 - accuracy: 0.5580 - val_loss: 1.4899 - val_accuracy: 0.4753\n",
      "Epoch 12/50\n",
      "50000/50000 [==============================] - 3s 67us/step - loss: 1.2470 - accuracy: 0.5691 - val_loss: 1.4858 - val_accuracy: 0.4774\n",
      "Epoch 13/50\n",
      "50000/50000 [==============================] - 3s 64us/step - loss: 1.2215 - accuracy: 0.5791 - val_loss: 1.4844 - val_accuracy: 0.4752\n",
      "Epoch 14/50\n",
      "50000/50000 [==============================] - 3s 65us/step - loss: 1.1972 - accuracy: 0.5888 - val_loss: 1.4776 - val_accuracy: 0.4816\n",
      "Epoch 15/50\n",
      "50000/50000 [==============================] - 3s 64us/step - loss: 1.1727 - accuracy: 0.5952 - val_loss: 1.4723 - val_accuracy: 0.4816\n",
      "Epoch 16/50\n",
      "50000/50000 [==============================] - 3s 64us/step - loss: 1.1486 - accuracy: 0.6064 - val_loss: 1.4715 - val_accuracy: 0.4822\n",
      "Epoch 17/50\n",
      "50000/50000 [==============================] - 3s 63us/step - loss: 1.1278 - accuracy: 0.6134 - val_loss: 1.4741 - val_accuracy: 0.4827\n",
      "Epoch 18/50\n",
      "50000/50000 [==============================] - 3s 63us/step - loss: 1.1040 - accuracy: 0.6226 - val_loss: 1.4636 - val_accuracy: 0.4874\n",
      "Epoch 19/50\n",
      "50000/50000 [==============================] - 3s 64us/step - loss: 1.0820 - accuracy: 0.6316 - val_loss: 1.4632 - val_accuracy: 0.4887\n",
      "Epoch 20/50\n",
      "50000/50000 [==============================] - 3s 68us/step - loss: 1.0613 - accuracy: 0.6357 - val_loss: 1.4840 - val_accuracy: 0.4839\n",
      "Epoch 21/50\n",
      "50000/50000 [==============================] - 3s 64us/step - loss: 1.0387 - accuracy: 0.6462 - val_loss: 1.4667 - val_accuracy: 0.4923\n",
      "Epoch 22/50\n",
      "50000/50000 [==============================] - 3s 64us/step - loss: 1.0156 - accuracy: 0.6547 - val_loss: 1.4748 - val_accuracy: 0.4869\n",
      "Epoch 23/50\n",
      "50000/50000 [==============================] - 3s 64us/step - loss: 0.9961 - accuracy: 0.6626 - val_loss: 1.4717 - val_accuracy: 0.4892\n",
      "Epoch 24/50\n",
      "50000/50000 [==============================] - 3s 63us/step - loss: 0.9779 - accuracy: 0.6727 - val_loss: 1.4792 - val_accuracy: 0.4892\n",
      "Epoch 25/50\n",
      "50000/50000 [==============================] - 3s 64us/step - loss: 0.9562 - accuracy: 0.6790 - val_loss: 1.4882 - val_accuracy: 0.4893\n",
      "Epoch 26/50\n",
      "50000/50000 [==============================] - 3s 63us/step - loss: 0.9349 - accuracy: 0.6873 - val_loss: 1.4886 - val_accuracy: 0.4880\n",
      "Epoch 27/50\n",
      "50000/50000 [==============================] - 3s 63us/step - loss: 0.9148 - accuracy: 0.6945 - val_loss: 1.5014 - val_accuracy: 0.4899\n",
      "Epoch 28/50\n",
      "50000/50000 [==============================] - 3s 63us/step - loss: 0.8943 - accuracy: 0.7023 - val_loss: 1.4921 - val_accuracy: 0.4901\n",
      "Epoch 29/50\n",
      "50000/50000 [==============================] - 3s 65us/step - loss: 0.8743 - accuracy: 0.7104 - val_loss: 1.5093 - val_accuracy: 0.4900\n",
      "Epoch 30/50\n",
      "50000/50000 [==============================] - 3s 64us/step - loss: 0.8566 - accuracy: 0.7186 - val_loss: 1.5058 - val_accuracy: 0.4904\n",
      "Epoch 31/50\n",
      "50000/50000 [==============================] - 3s 62us/step - loss: 0.8348 - accuracy: 0.7265 - val_loss: 1.4948 - val_accuracy: 0.4962\n",
      "Epoch 32/50\n",
      "50000/50000 [==============================] - 3s 63us/step - loss: 0.8166 - accuracy: 0.7342 - val_loss: 1.5182 - val_accuracy: 0.4893\n",
      "Epoch 33/50\n",
      "50000/50000 [==============================] - 3s 64us/step - loss: 0.7986 - accuracy: 0.7414 - val_loss: 1.5357 - val_accuracy: 0.4876\n",
      "Epoch 34/50\n",
      "50000/50000 [==============================] - 3s 62us/step - loss: 0.7781 - accuracy: 0.7480 - val_loss: 1.5224 - val_accuracy: 0.4912\n",
      "Epoch 35/50\n",
      "50000/50000 [==============================] - 3s 61us/step - loss: 0.7584 - accuracy: 0.7575 - val_loss: 1.5424 - val_accuracy: 0.4926\n",
      "Epoch 36/50\n",
      "50000/50000 [==============================] - 3s 61us/step - loss: 0.7416 - accuracy: 0.7628 - val_loss: 1.5624 - val_accuracy: 0.4817\n",
      "Epoch 37/50\n",
      "50000/50000 [==============================] - 3s 63us/step - loss: 0.7234 - accuracy: 0.7714 - val_loss: 1.5711 - val_accuracy: 0.4839\n",
      "Epoch 38/50\n",
      "50000/50000 [==============================] - 3s 62us/step - loss: 0.7035 - accuracy: 0.7778 - val_loss: 1.5667 - val_accuracy: 0.4907\n",
      "Epoch 39/50\n",
      "50000/50000 [==============================] - 3s 68us/step - loss: 0.6843 - accuracy: 0.7857 - val_loss: 1.5763 - val_accuracy: 0.4911\n",
      "Epoch 40/50\n",
      "50000/50000 [==============================] - 3s 66us/step - loss: 0.6688 - accuracy: 0.7926 - val_loss: 1.5793 - val_accuracy: 0.4822\n",
      "Epoch 41/50\n",
      "50000/50000 [==============================] - 3s 63us/step - loss: 0.6494 - accuracy: 0.8003 - val_loss: 1.5982 - val_accuracy: 0.4875\n",
      "Epoch 42/50\n",
      "50000/50000 [==============================] - 3s 62us/step - loss: 0.6332 - accuracy: 0.8066 - val_loss: 1.6412 - val_accuracy: 0.4738\n",
      "Epoch 43/50\n",
      "50000/50000 [==============================] - 3s 64us/step - loss: 0.6168 - accuracy: 0.8132 - val_loss: 1.6105 - val_accuracy: 0.4851\n",
      "Epoch 44/50\n",
      "50000/50000 [==============================] - 3s 64us/step - loss: 0.5990 - accuracy: 0.8200 - val_loss: 1.6313 - val_accuracy: 0.4845\n",
      "Epoch 45/50\n",
      "50000/50000 [==============================] - 3s 62us/step - loss: 0.5798 - accuracy: 0.8272 - val_loss: 1.6472 - val_accuracy: 0.4837\n",
      "Epoch 46/50\n",
      "50000/50000 [==============================] - 3s 63us/step - loss: 0.5635 - accuracy: 0.8341 - val_loss: 1.6636 - val_accuracy: 0.4835\n",
      "Epoch 47/50\n",
      "50000/50000 [==============================] - 3s 64us/step - loss: 0.5479 - accuracy: 0.8401 - val_loss: 1.6646 - val_accuracy: 0.4823\n",
      "Epoch 48/50\n",
      "50000/50000 [==============================] - 3s 66us/step - loss: 0.5309 - accuracy: 0.8460 - val_loss: 1.6804 - val_accuracy: 0.4866\n",
      "Epoch 49/50\n",
      "50000/50000 [==============================] - 3s 63us/step - loss: 0.5165 - accuracy: 0.8526 - val_loss: 1.7207 - val_accuracy: 0.4802\n",
      "Epoch 50/50\n",
      "50000/50000 [==============================] - 3s 63us/step - loss: 0.5003 - accuracy: 0.8602 - val_loss: 1.7141 - val_accuracy: 0.4819\n"
     ]
    },
    {
     "data": {
      "text/plain": [
       "<keras.callbacks.callbacks.History at 0x28673abe108>"
      ]
     },
     "execution_count": 9,
     "metadata": {},
     "output_type": "execute_result"
    }
   ],
   "source": [
    "# 載入 Callbacks, 改變 monitor \"Validation Accuracy\", 調整 earlystop 的等待次數至 10, 25 並比較結果\n",
    "\"\"\"\n",
    "# 載入 Callbacks, 並將 monitor 設定為監控 Validation Accuracy\n",
    "\"\"\"\n",
    "from keras.callbacks import EarlyStopping\n",
    "\n",
    "earlystop = EarlyStopping(monitor=\"val_acc\", \n",
    "                          patience=25, \n",
    "                          verbose=1\n",
    "                          )\n",
    "model = build_mlp(input_shape=x_train.shape[1:])\n",
    "model.summary()\n",
    "optimizer = keras.optimizers.SGD(lr=LEARNING_RATE, nesterov=True, momentum=MOMENTUM)\n",
    "model.compile(loss=\"categorical_crossentropy\", metrics=[\"accuracy\"], optimizer=optimizer)\n",
    "\n",
    "model.fit(x_train, y_train, \n",
    "          epochs=EPOCHS, \n",
    "          batch_size=BATCH_SIZE, \n",
    "          validation_data=(x_test, y_test), \n",
    "          shuffle=True,\n",
    "          callbacks=[earlystop]\n",
    "         )"
   ]
  },
  {
   "cell_type": "code",
   "execution_count": 11,
   "metadata": {},
   "outputs": [],
   "source": [
    "# Collect results\n",
    "train_loss = model.history.history[\"loss\"]\n",
    "valid_loss = model.history.history[\"val_loss\"]\n",
    "train_acc = model.history.history[\"accuracy\"]\n",
    "valid_acc = model.history.history[\"val_accuracy\"]"
   ]
  },
  {
   "cell_type": "code",
   "execution_count": 12,
   "metadata": {},
   "outputs": [
    {
     "data": {
      "image/png": "[encoded data removed]",
      "text/plain": [
       "<Figure size 432x288 with 1 Axes>"
      ]
     },
     "metadata": {
      "needs_background": "light"
     },
     "output_type": "display_data"
    },
    {
     "data": {
      "image/png": "[encoded data removed]",
      "text/plain": [
       "<Figure size 432x288 with 1 Axes>"
      ]
     },
     "metadata": {
      "needs_background": "light"
     },
     "output_type": "display_data"
    }
   ],
   "source": [
    "import matplotlib.pyplot as plt\n",
    "%matplotlib inline\n",
    "\n",
    "plt.plot(range(len(train_loss)), train_loss, label=\"train loss\")\n",
    "plt.plot(range(len(valid_loss)), valid_loss, label=\"valid loss\")\n",
    "plt.legend()\n",
    "plt.title(\"Loss\")\n",
    "plt.show()\n",
    "\n",
    "plt.plot(range(len(train_acc)), train_acc, label=\"train accuracy\")\n",
    "plt.plot(range(len(valid_acc)), valid_acc, label=\"valid accuracy\")\n",
    "plt.legend()\n",
    "plt.title(\"Accuracy\")\n",
    "plt.show()"
   ]
  },
  {
   "cell_type": "code",
   "execution_count": null,
   "metadata": {},
   "outputs": [],
   "source": []
  }
 ],
 "metadata": {
  "kernelspec": {
   "display_name": "Python 3",
   "language": "python",
   "name": "python3"
  },
  "language_info": {
   "codemirror_mode": {
    "name": "ipython",
    "version": 3
   },
   "file_extension": ".py",
   "mimetype": "text/x-python",
   "name": "python",
   "nbconvert_exporter": "python",
   "pygments_lexer": "ipython3",
   "version": "3.7.4"
  }
 },
 "nbformat": 4,
 "nbformat_minor": 2
}
