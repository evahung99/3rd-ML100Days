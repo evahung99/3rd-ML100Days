{
 "cells": [
  {
   "cell_type": "markdown",
   "metadata": {},
   "source": [
    "## Work\n",
    "1. 請嘗試寫一個 callback 用來記錄各類別在訓練過程中，對驗證集的 True Positive 與 True Negative"
   ]
  },
  {
   "cell_type": "code",
   "execution_count": 1,
   "metadata": {},
   "outputs": [
    {
     "name": "stderr",
     "output_type": "stream",
     "text": [
      "Using TensorFlow backend.\n"
     ]
    }
   ],
   "source": [
    "import os\n",
    "import keras\n",
    "\n",
    "# Disable GPU\n",
    "os.environ[\"CUDA_VISIBLE_DEVICES\"] = \"\""
   ]
  },
  {
   "cell_type": "code",
   "execution_count": 2,
   "metadata": {},
   "outputs": [],
   "source": [
    "train, test = keras.datasets.cifar10.load_data()"
   ]
  },
  {
   "cell_type": "code",
   "execution_count": 3,
   "metadata": {},
   "outputs": [],
   "source": [
    "## 資料前處理\n",
    "def preproc_x(x, flatten=True):\n",
    "    x = x / 255.\n",
    "    if flatten:\n",
    "        x = x.reshape((len(x), -1))\n",
    "    return x\n",
    "\n",
    "def preproc_y(y, num_classes=10):\n",
    "    if y.shape[-1] == 1:\n",
    "        y = keras.utils.to_categorical(y, num_classes)\n",
    "    return y    "
   ]
  },
  {
   "cell_type": "code",
   "execution_count": 4,
   "metadata": {},
   "outputs": [],
   "source": [
    "x_train, y_train = train\n",
    "x_test, y_test = test\n",
    "\n",
    "# Preproc the inputs\n",
    "x_train = preproc_x(x_train)\n",
    "x_test = preproc_x(x_test)\n",
    "\n",
    "# Preprc the outputs\n",
    "y_train = preproc_y(y_train)\n",
    "y_test = preproc_y(y_test)"
   ]
  },
  {
   "cell_type": "code",
   "execution_count": 5,
   "metadata": {},
   "outputs": [],
   "source": [
    "from keras.layers import BatchNormalization\n",
    "def build_mlp(input_shape, output_units=10, num_neurons=[256, 256, 256]):\n",
    "    input_layer = keras.layers.Input(input_shape)\n",
    "    \n",
    "    for i, n_units in enumerate(num_neurons):\n",
    "        if i == 0:\n",
    "            x = keras.layers.Dense(units=n_units, \n",
    "                                   activation=\"relu\", \n",
    "                                   name=\"hidden_layer\"+str(i+1))(input_layer)\n",
    "            x = BatchNormalization()(x)\n",
    "        else:\n",
    "            x = keras.layers.Dense(units=n_units, \n",
    "                                   activation=\"relu\", \n",
    "                                   name=\"hidden_layer\"+str(i+1))(x)\n",
    "            x = BatchNormalization()(x)\n",
    "    \n",
    "    out = keras.layers.Dense(units=output_units, activation=\"softmax\", name=\"output\")(x)\n",
    "    \n",
    "    model = keras.models.Model(inputs=[input_layer], outputs=[out])\n",
    "    return model"
   ]
  },
  {
   "cell_type": "code",
   "execution_count": 6,
   "metadata": {},
   "outputs": [],
   "source": [
    "## 超參數設定\n",
    "LEARNING_RATE = 1e-3\n",
    "EPOCHS = 25\n",
    "BATCH_SIZE = 1024\n",
    "MOMENTUM = 0.95"
   ]
  },
  {
   "cell_type": "code",
   "execution_count": 7,
   "metadata": {},
   "outputs": [],
   "source": [
    "# 載入 Callbacks\n",
    "from keras.callbacks import Callback\n",
    "\n",
    "# Record_fp_tp\n",
    "class Record_tp_tn(Callback):\n",
    "    \"\"\"Code Here\n",
    "    撰寫一個紀錄 ture positive 與 true negative 數量的 callbacks    \n",
    "    \"\"\"\n",
    "    def on_train_begin(self, epoch, logs = {}):\n",
    "        logs = logs or {}\n",
    "        record_items = [\"val_tp\", \"val_tn\"]\n",
    "        for i in record_items:\n",
    "            if i not in self.params['metrics']:\n",
    "                self.params['metrics'].append(i)\n",
    "                \n",
    "    def on_epoch_end(self, epoch, logs = {}, thres=0.5):\n",
    "        logs = logs or {}\n",
    "        y_true = self.validation_data[1].argmax(axis = 1)\n",
    "        y_pred = self.model.predict(self.validation_data[0])\n",
    "        y_pred = (y_pred[:, 1] >= thres) * 1\n",
    "        \n",
    "        val_tp = sum(y_true*y_pred)\n",
    "        val_tn = sum((y_true==0) & (y_pred==0))\n",
    "        \n",
    "        logs[\"val_tp\"] = val_tp\n",
    "        logs[\"val_tn\"] = val_tn\n",
    "        \n",
    "rec_tptn = Record_tp_tn()"
   ]
  },
  {
   "cell_type": "code",
   "execution_count": 8,
   "metadata": {
    "scrolled": true
   },
   "outputs": [
    {
     "name": "stdout",
     "output_type": "stream",
     "text": [
      "Model: \"model_1\"\n",
      "_________________________________________________________________\n",
      "Layer (type)                 Output Shape              Param #   \n",
      "=================================================================\n",
      "input_1 (InputLayer)         (None, 3072)              0         \n",
      "_________________________________________________________________\n",
      "hidden_layer1 (Dense)        (None, 256)               786688    \n",
      "_________________________________________________________________\n",
      "batch_normalization_1 (Batch (None, 256)               1024      \n",
      "_________________________________________________________________\n",
      "hidden_layer2 (Dense)        (None, 256)               65792     \n",
      "_________________________________________________________________\n",
      "batch_normalization_2 (Batch (None, 256)               1024      \n",
      "_________________________________________________________________\n",
      "hidden_layer3 (Dense)        (None, 256)               65792     \n",
      "_________________________________________________________________\n",
      "batch_normalization_3 (Batch (None, 256)               1024      \n",
      "_________________________________________________________________\n",
      "output (Dense)               (None, 10)                2570      \n",
      "=================================================================\n",
      "Total params: 923,914\n",
      "Trainable params: 922,378\n",
      "Non-trainable params: 1,536\n",
      "_________________________________________________________________\n",
      "Train on 50000 samples, validate on 10000 samples\n",
      "Epoch 1/25\n",
      "50000/50000 [==============================] - 4s 87us/step - loss: 2.2832 - accuracy: 0.2536 - val_loss: 2.1504 - val_accuracy: 0.2145\n",
      "Epoch 2/25\n",
      "50000/50000 [==============================] - 4s 73us/step - loss: 1.7703 - accuracy: 0.3824 - val_loss: 1.9878 - val_accuracy: 0.3110\n",
      "Epoch 3/25\n",
      "50000/50000 [==============================] - 4s 74us/step - loss: 1.6376 - accuracy: 0.4252 - val_loss: 1.8369 - val_accuracy: 0.3605\n",
      "Epoch 4/25\n",
      "50000/50000 [==============================] - 4s 72us/step - loss: 1.5642 - accuracy: 0.4516 - val_loss: 1.7024 - val_accuracy: 0.4167\n",
      "Epoch 5/25\n",
      "50000/50000 [==============================] - 4s 75us/step - loss: 1.5110 - accuracy: 0.4697 - val_loss: 1.6260 - val_accuracy: 0.4348\n",
      "Epoch 6/25\n",
      "50000/50000 [==============================] - 4s 73us/step - loss: 1.4645 - accuracy: 0.4872 - val_loss: 1.5908 - val_accuracy: 0.4387\n",
      "Epoch 7/25\n",
      "50000/50000 [==============================] - 4s 78us/step - loss: 1.4278 - accuracy: 0.4995 - val_loss: 1.5495 - val_accuracy: 0.4485\n",
      "Epoch 8/25\n",
      "50000/50000 [==============================] - 4s 82us/step - loss: 1.3947 - accuracy: 0.5130 - val_loss: 1.5243 - val_accuracy: 0.4560\n",
      "Epoch 9/25\n",
      "50000/50000 [==============================] - 4s 73us/step - loss: 1.3656 - accuracy: 0.5217 - val_loss: 1.5005 - val_accuracy: 0.4698\n",
      "Epoch 10/25\n",
      "50000/50000 [==============================] - 4s 75us/step - loss: 1.3372 - accuracy: 0.5337 - val_loss: 1.4987 - val_accuracy: 0.4702\n",
      "Epoch 11/25\n",
      "50000/50000 [==============================] - 4s 80us/step - loss: 1.3111 - accuracy: 0.5451 - val_loss: 1.4925 - val_accuracy: 0.4706\n",
      "Epoch 12/25\n",
      "50000/50000 [==============================] - 4s 85us/step - loss: 1.2876 - accuracy: 0.5525 - val_loss: 1.4811 - val_accuracy: 0.4735\n",
      "Epoch 13/25\n",
      "50000/50000 [==============================] - 4s 87us/step - loss: 1.2647 - accuracy: 0.5615 - val_loss: 1.4697 - val_accuracy: 0.4793\n",
      "Epoch 14/25\n",
      "50000/50000 [==============================] - 3s 69us/step - loss: 1.2432 - accuracy: 0.5699 - val_loss: 1.4646 - val_accuracy: 0.4843\n",
      "Epoch 15/25\n",
      "50000/50000 [==============================] - 4s 72us/step - loss: 1.2224 - accuracy: 0.5764 - val_loss: 1.4582 - val_accuracy: 0.4843\n",
      "Epoch 16/25\n",
      "50000/50000 [==============================] - 4s 70us/step - loss: 1.2020 - accuracy: 0.5817 - val_loss: 1.4536 - val_accuracy: 0.4848\n",
      "Epoch 17/25\n",
      "50000/50000 [==============================] - 4s 70us/step - loss: 1.1830 - accuracy: 0.5907 - val_loss: 1.4541 - val_accuracy: 0.4824\n",
      "Epoch 18/25\n",
      "50000/50000 [==============================] - 4s 71us/step - loss: 1.1646 - accuracy: 0.5982 - val_loss: 1.4627 - val_accuracy: 0.4841\n",
      "Epoch 19/25\n",
      "50000/50000 [==============================] - 4s 73us/step - loss: 1.1445 - accuracy: 0.6060 - val_loss: 1.4489 - val_accuracy: 0.4881\n",
      "Epoch 20/25\n",
      "50000/50000 [==============================] - 4s 71us/step - loss: 1.1273 - accuracy: 0.6125 - val_loss: 1.4548 - val_accuracy: 0.4888\n",
      "Epoch 21/25\n",
      "50000/50000 [==============================] - 4s 72us/step - loss: 1.1097 - accuracy: 0.6191 - val_loss: 1.4570 - val_accuracy: 0.4857\n",
      "Epoch 22/25\n",
      "50000/50000 [==============================] - 4s 71us/step - loss: 1.0920 - accuracy: 0.6246 - val_loss: 1.4477 - val_accuracy: 0.4921\n",
      "Epoch 23/25\n",
      "50000/50000 [==============================] - 4s 73us/step - loss: 1.0744 - accuracy: 0.6317 - val_loss: 1.4541 - val_accuracy: 0.4912\n",
      "Epoch 24/25\n",
      "50000/50000 [==============================] - 4s 78us/step - loss: 1.0599 - accuracy: 0.6375 - val_loss: 1.4483 - val_accuracy: 0.4950\n",
      "Epoch 25/25\n",
      "50000/50000 [==============================] - 4s 76us/step - loss: 1.0414 - accuracy: 0.6427 - val_loss: 1.4454 - val_accuracy: 0.4945\n"
     ]
    },
    {
     "data": {
      "text/plain": [
       "<keras.callbacks.callbacks.History at 0x14b9b811a08>"
      ]
     },
     "execution_count": 8,
     "metadata": {},
     "output_type": "execute_result"
    }
   ],
   "source": [
    "model = build_mlp(input_shape=x_train.shape[1:])\n",
    "model.summary()\n",
    "optimizer = keras.optimizers.SGD(lr=LEARNING_RATE, nesterov=True, momentum=MOMENTUM)\n",
    "model.compile(loss=\"categorical_crossentropy\", metrics=[\"accuracy\"], optimizer=optimizer)\n",
    "\n",
    "\"\"\"Code Here\n",
    "將 callbacks 放入模型訓練流程中\n",
    "\"\"\"\n",
    "model.fit(x_train, y_train, \n",
    "          epochs=EPOCHS, \n",
    "          batch_size=BATCH_SIZE, \n",
    "          validation_data=(x_test, y_test), \n",
    "          shuffle=True,\n",
    "          callbacks=[rec_tptn]\n",
    "         )"
   ]
  },
  {
   "cell_type": "code",
   "execution_count": 9,
   "metadata": {},
   "outputs": [],
   "source": [
    "# Collect results\n",
    "train_loss = model.history.history[\"loss\"]\n",
    "valid_loss = model.history.history[\"val_loss\"]\n",
    "train_acc = model.history.history[\"accuracy\"]\n",
    "valid_acc = model.history.history[\"val_accuracy\"]\n",
    "\n",
    "\"\"\"Code Here\n",
    "將 tp/tn 從訓練完的模型中取出\n",
    "\"\"\"\n",
    "valid_tp = model.history.history['val_tp']\n",
    "valid_tn = model.history.history['val_tn']"
   ]
  },
  {
   "cell_type": "code",
   "execution_count": 10,
   "metadata": {},
   "outputs": [
    {
     "data": {
      "image/png": "[encoded data removed]",
      "text/plain": [
       "<Figure size 432x288 with 1 Axes>"
      ]
     },
     "metadata": {
      "needs_background": "light"
     },
     "output_type": "display_data"
    },
    {
     "data": {
      "image/png": "[encoded data removed]",
      "text/plain": [
       "<Figure size 432x288 with 1 Axes>"
      ]
     },
     "metadata": {
      "needs_background": "light"
     },
     "output_type": "display_data"
    },
    {
     "data": {
      "image/png": "[encoded data removed]",
      "text/plain": [
       "<Figure size 432x288 with 1 Axes>"
      ]
     },
     "metadata": {
      "needs_background": "light"
     },
     "output_type": "display_data"
    }
   ],
   "source": [
    "import matplotlib.pyplot as plt\n",
    "%matplotlib inline\n",
    "\n",
    "plt.plot(range(len(train_loss)), train_loss, label=\"train loss\")\n",
    "plt.plot(range(len(valid_loss)), valid_loss, label=\"valid loss\")\n",
    "plt.legend()\n",
    "plt.title(\"Loss\")\n",
    "plt.show()\n",
    "\n",
    "plt.plot(range(len(train_acc)), train_acc, label=\"train accuracy\")\n",
    "plt.plot(range(len(valid_acc)), valid_acc, label=\"valid accuracy\")\n",
    "plt.legend()\n",
    "plt.title(\"Accuracy\")\n",
    "plt.show()\n",
    "\n",
    "plt.plot(range(len(valid_tp)), valid_tp, label=\"valid tp\", color=\"navy\")\n",
    "plt.plot(range(len(valid_tn)), valid_tn, label=\"valid tn\", color=\"red\")\n",
    "plt.legend()\n",
    "plt.title(\"True positives and True Negatives\")\n",
    "plt.show()\n"
   ]
  }
 ],
 "metadata": {
  "kernelspec": {
   "display_name": "Python 3",
   "language": "python",
   "name": "python3"
  },
  "language_info": {
   "codemirror_mode": {
    "name": "ipython",
    "version": 3
   },
   "file_extension": ".py",
   "mimetype": "text/x-python",
   "name": "python",
   "nbconvert_exporter": "python",
   "pygments_lexer": "ipython3",
   "version": "3.7.4"
  }
 },
 "nbformat": 4,
 "nbformat_minor": 2
}
