{
 "cells": [
  {
   "cell_type": "markdown",
   "metadata": {},
   "source": [
    "請閱讀以下文獻，理解 CNN 原理後回答問題\n",
    "- [卷積神經網路原理 - 中文](https://brohrer.mcknote.com/zh-Hant/how_machine_learning_works/how_convolutional_neural_networks_work.html)\n",
    "- [CNN for beginner’s guide](https://adeshpande3.github.io/A-Beginner%27s-Guide-To-Understanding-Convolutional-Neural-Networks/)\n",
    "\n",
    "1. 若使用總共 128 個濾波器 (filters)，對一張 256x256 的影像做完卷積後，共會得到幾張特徵圖 (feature maps)？\n",
    "2. 卷積神經網路中，濾波器的大小 (3x3 or 5x5) 與內部數字的值 (value) 是怎麼決定的呢？\n"
   ]
  },
  {
   "cell_type": "markdown",
   "metadata": {},
   "source": [
    "https://medium.com/@chih.sheng.huang821/%E5%8D%B7%E7%A9%8D%E7%A5%9E%E7%B6%93%E7%B6%B2%E8%B7%AF-convolutional-neural-network-cnn-%E5%8D%B7%E7%A9%8D%E8%A8%88%E7%AE%97%E4%B8%AD%E7%9A%84%E6%AD%A5%E4%BC%90-stride-%E5%92%8C%E5%A1%AB%E5%85%85-padding-94449e638e82\n",
    "\n",
    "1. 輸入的圖: 假設大小是W × W。\n",
    "2. Filter (kernel map)大小是 ks × ks\n",
    "3. Stride: kernel map在移動時的步伐長度 S\n",
    "4. 輸出的圖大小為 new_height × new_width\n",
    "\n",
    "#### 上圖的例子\n",
    "1. 輸入的圖: W × W =256 × 256。\n",
    "2. Filter (kernel map): ks × ks=128 × 128\n",
    "3. Stride: S=1\n",
    "4. 輸出的圖大小為 new_height × new_width = 128 × 128\n",
    "- 公式如下: new_height = new_width = (W — F + 1) / S\n",
    "- (256 - 128 + 1) / 1 = 129\n",
    "#### 1. Ans: 會有129*129 張特徵圖\n",
    "#### 2.Ans: 過資料學習⽽而來來的! 這也就是 CNN 模型中的參參數 (或叫權重weights)CNN 會⾃自動從訓練資料中學習出適合的濾波器來來完成你的任務 (分類、偵測等)"
   ]
  },
  {
   "cell_type": "code",
   "execution_count": null,
   "metadata": {},
   "outputs": [],
   "source": []
  }
 ],
 "metadata": {
  "kernelspec": {
   "display_name": "Python 3",
   "language": "python",
   "name": "python3"
  },
  "language_info": {
   "codemirror_mode": {
    "name": "ipython",
    "version": 3
   },
   "file_extension": ".py",
   "mimetype": "text/x-python",
   "name": "python",
   "nbconvert_exporter": "python",
   "pygments_lexer": "ipython3",
   "version": "3.7.4"
  }
 },
 "nbformat": 4,
 "nbformat_minor": 2
}
